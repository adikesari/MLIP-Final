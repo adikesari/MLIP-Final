{
  "cells": [
    {
      "cell_type": "markdown",
      "metadata": {
        "id": "uZPk3AWZ28yR"
      },
      "source": [
        "# Install implementation from GIT:https://github.com/JaehaKim97/SR4IR.git"
      ]
    },
    {
      "cell_type": "code",
      "execution_count": null,
      "metadata": {
        "collapsed": true,
        "id": "cgqEP-0y3NYD"
      },
      "outputs": [],
      "source": [
        "!pip install gdown\n",
        "from posix import mkdir\n",
        "!git clone https://github.com/adikesari/MLIP-Final.git\n",
        "%cd MLIP-Final\n",
        "import yaml\n",
        "with open(\"assets/environment.yaml\") as f:\n",
        "    env = yaml.safe_load(f)\n",
        "pip_packages = []\n",
        "for dep in env[\"dependencies\"]:\n",
        "    if isinstance(dep, dict) and \"pip\" in dep:\n",
        "        pip_packages.extend(dep[\"pip\"])\n",
        "for pkg in pip_packages:\n",
        "    !pip install {pkg}\n",
        "!python src/setup.py\n",
        "%cd datasets/\n",
        "!wget http://host.robots.ox.ac.uk/pascal/VOC/voc2012/VOCtrainval_11-May-2012.tar\n",
        "%cd ..\n",
        "!python preprocess/voc/main.py\n",
        "!bash preprocess/voc2coco/main.sh\n",
        "from IPython.display import clear_output\n",
        "clear_output()"
      ]
    },
    {
      "cell_type": "code",
      "source": [
        "!python src/setup.py\n",
        "!python preprocess/prepare_dataset.py"
      ],
      "metadata": {
        "colab": {
          "base_uri": "https://localhost:8080/"
        },
        "id": "HFSx21lQUzRN",
        "outputId": "5ae3510e-e5bf-49ec-918c-5857a62b3b8e"
      },
      "execution_count": 3,
      "outputs": [
        {
          "output_type": "stream",
          "name": "stdout",
          "text": [
            "Setup Done:)\n",
            "Downloading VOC2012 dataset...\n",
            "Extracting VOC2012 dataset...\n",
            "Processing training set...\n",
            "Found 17125 images to process\n",
            "100% 17125/17125 [28:04<00:00, 10.17it/s]\n",
            "Processing validation set...\n",
            "Found 17125 images to process\n",
            "100% 17125/17125 [07:45<00:00, 36.79it/s]\n"
          ]
        }
      ]
    },
    {
      "cell_type": "markdown",
      "metadata": {
        "id": "WA_r4YRqASJM"
      },
      "source": [
        "#Train the image detection model"
      ]
    },
    {
      "cell_type": "code",
      "source": [
        "%cd SR4IR\n",
        "CUDA_VISIBLE_DEVICES=1\n",
        "!python src/main.py --opt options/deblur/sr4ir_deblur.yml"
      ],
      "metadata": {
        "id": "ufd3uOijlErY"
      },
      "execution_count": null,
      "outputs": []
    },
    {
      "cell_type": "markdown",
      "metadata": {
        "id": "2JvzrRTSJgKQ"
      },
      "source": [
        "#Test the models"
      ]
    },
    {
      "cell_type": "code",
      "source": [
        "CUDA_VISIBLE_DEVICES=0\n",
        "%cd SR4IR\n",
        "!python src/main.py --opt options/deblur/sr4ir_deblur.yml --test_only"
      ],
      "metadata": {
        "id": "MCRIy31dJijw"
      },
      "execution_count": null,
      "outputs": []
    }
  ],
  "metadata": {
    "accelerator": "GPU",
    "colab": {
      "gpuType": "T4",
      "provenance": []
    },
    "kernelspec": {
      "display_name": "Python 3",
      "name": "python3"
    },
    "language_info": {
      "name": "python"
    }
  },
  "nbformat": 4,
  "nbformat_minor": 0
}