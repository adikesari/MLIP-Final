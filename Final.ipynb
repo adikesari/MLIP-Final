{
  "cells": [
    {
      "cell_type": "markdown",
      "metadata": {
        "id": "uZPk3AWZ28yR"
      },
      "source": [
        "# Install implementation from GIT:https://github.com/JaehaKim97/SR4IR.git"
      ]
    },
    {
      "cell_type": "code",
      "execution_count": null,
      "metadata": {
        "collapsed": true,
        "id": "cgqEP-0y3NYD"
      },
      "outputs": [],
      "source": [
        "!pip install gdown\n",
        "from posix import mkdir\n",
        "!git clone https://github.com/adikesari/MLIP-Final.git\n",
        "%cd MLIP-Final\n",
        "import yaml\n",
        "with open(\"assets/environment.yaml\") as f:\n",
        "    env = yaml.safe_load(f)\n",
        "pip_packages = []\n",
        "for dep in env[\"dependencies\"]:\n",
        "    if isinstance(dep, dict) and \"pip\" in dep:\n",
        "        pip_packages.extend(dep[\"pip\"])\n",
        "for pkg in pip_packages:\n",
        "    !pip install {pkg}\n",
        "!python src/setup.py\n",
        "%cd datasets/\n",
        "!wget http://host.robots.ox.ac.uk/pascal/VOC/voc2012/VOCtrainval_11-May-2012.tar\n",
        "%cd ..\n",
        "!python preprocess/voc/main.py\n",
        "!bash preprocess/voc2coco/main.sh\n",
        "from IPython.display import clear_output\n",
        "clear_output()"
      ]
    },
    {
      "cell_type": "code",
      "execution_count": 1,
      "metadata": {
        "colab": {
          "base_uri": "https://localhost:8080/"
        },
        "id": "HFSx21lQUzRN",
        "outputId": "5ae3510e-e5bf-49ec-918c-5857a62b3b8e"
      },
      "outputs": [
        {
          "name": "stdout",
          "output_type": "stream",
          "text": [
            "Setup Done:)\n",
            "Downloading VOC2012 dataset...\n",
            "Extracting VOC2012 dataset...\n",
            "/home/aditya/MLIP-Final/MLIP-Final/preprocess/prepare_dataset.py:25: DeprecationWarning: Python 3.14 will, by default, filter extracted tar archives and reject files or modify their metadata. Use the filter argument to control this behavior.\n",
            "  tar.extractall(path=output_dir)\n",
            "Copying original images to datasets/deblur/train/sharp_images...\n",
            "Copying original images to datasets/deblur/val/sharp_images...\n",
            "Processing training set...\n",
            "Found 17125 images to process\n",
            "100%|█████████████████████████████████████| 17125/17125 [17:38<00:00, 16.18it/s]\n",
            "Processing validation set...\n",
            "Found 17125 images to process\n",
            "100%|█████████████████████████████████████| 17125/17125 [06:00<00:00, 47.52it/s]\n"
          ]
        }
      ],
      "source": [
        "!python src/setup.py\n",
        "!python preprocess/prepare_dataset.py"
      ]
    },
    {
      "cell_type": "code",
      "execution_count": 15,
      "metadata": {},
      "outputs": [
        {
          "name": "stdout",
          "output_type": "stream",
          "text": [
            "/home/aditya/MLIP-Final/MLIP-Final/experiments\n",
            "Retrieving folder contents\n",
            "Processing file 1vLnstj4uaaK9zatsvILM7gOfvjxkRt0h 001_classicalSR_DIV2K_s48w8_SwinIR-M_x4.pth\n",
            "Processing file 1CvFZvx2PGOTt0sGEENlmycuQnh3kTRXk 001_classicalSR_DIV2K_s48w8_SwinIR-M_x8.pth\n",
            "Processing file 14d71veQuXyi0Eylgwq3ADJcFfCd-2SCU edsr_baseline_x4-6b446fab.pt\n",
            "Processing file 1C8WhC_FbEQX8XcqWJtTGURxgexEgdO-R edsr_baseline_x8.pt\n",
            "Retrieving folder contents completed\n",
            "Building directory structure\n",
            "Building directory structure completed\n",
            "Downloading...\n",
            "From (original): https://drive.google.com/uc?id=1vLnstj4uaaK9zatsvILM7gOfvjxkRt0h\n",
            "From (redirected): https://drive.google.com/uc?id=1vLnstj4uaaK9zatsvILM7gOfvjxkRt0h&confirm=t&uuid=f23e00b4-b80f-4772-a5be-333513e305b3\n",
            "To: /home/aditya/MLIP-Final/MLIP-Final/experiments/pretrained_models/001_classicalSR_DIV2K_s48w8_SwinIR-M_x4.pth\n",
            "100%|██████████████████████████████████████| 59.6M/59.6M [00:00<00:00, 72.2MB/s]\n",
            "Downloading...\n",
            "From (original): https://drive.google.com/uc?id=1CvFZvx2PGOTt0sGEENlmycuQnh3kTRXk\n",
            "From (redirected): https://drive.google.com/uc?id=1CvFZvx2PGOTt0sGEENlmycuQnh3kTRXk&confirm=t&uuid=f0c9a7ab-c86c-4147-bcf5-eb6b7d62a621\n",
            "To: /home/aditya/MLIP-Final/MLIP-Final/experiments/pretrained_models/001_classicalSR_DIV2K_s48w8_SwinIR-M_x8.pth\n",
            "100%|██████████████████████████████████████| 60.2M/60.2M [00:00<00:00, 73.5MB/s]\n",
            "Downloading...\n",
            "From: https://drive.google.com/uc?id=14d71veQuXyi0Eylgwq3ADJcFfCd-2SCU\n",
            "To: /home/aditya/MLIP-Final/MLIP-Final/experiments/pretrained_models/edsr_baseline_x4-6b446fab.pt\n",
            "100%|██████████████████████████████████████| 6.08M/6.08M [00:00<00:00, 24.0MB/s]\n",
            "Downloading...\n",
            "From: https://drive.google.com/uc?id=1C8WhC_FbEQX8XcqWJtTGURxgexEgdO-R\n",
            "To: /home/aditya/MLIP-Final/MLIP-Final/experiments/pretrained_models/edsr_baseline_x8.pt\n",
            "100%|██████████████████████████████████████| 6.69M/6.69M [00:00<00:00, 77.3MB/s]\n",
            "Download completed\n",
            "/home/aditya/MLIP-Final/MLIP-Final\n"
          ]
        }
      ],
      "source": [
        "%cd experiments\n",
        "!gdown --folder https://drive.google.com/drive/folders/1Ly8yS8SF5V5itOQj3b9DE2k_IO1NvLXE\n",
        "%cd .."
      ]
    },
    {
      "cell_type": "markdown",
      "metadata": {
        "id": "WA_r4YRqASJM"
      },
      "source": [
        "# Train the image detection model"
      ]
    },
    {
      "cell_type": "code",
      "execution_count": 39,
      "metadata": {
        "id": "ufd3uOijlErY"
      },
      "outputs": [
        {
          "name": "stdout",
          "output_type": "stream",
          "text": [
            "Model [sr4ir_deblur_model] is created\n",
            "Path already exists. Rename it to experiments/deblur/sr4ir_deblur_archived_20250426_034401\n",
            "Path already exists. Rename it to tb_loggers/deblur/sr4ir_deblur_archived_20250426_034401\n",
            "Random seed : 100\n",
            "Setting up [LPIPS] perceptual loss: trunk [vgg], v[0.1], spatial [off]\n",
            "/home/aditya/miniconda3/lib/python3.12/site-packages/torchvision/models/_utils.py:208: UserWarning: The parameter 'pretrained' is deprecated since 0.13 and may be removed in the future, please use 'weights' instead.\n",
            "  warnings.warn(\n",
            "/home/aditya/miniconda3/lib/python3.12/site-packages/torchvision/models/_utils.py:223: UserWarning: Arguments other than a weight enum or `None` for 'weights' are deprecated since 0.13 and may be removed in the future. The current behavior is equivalent to passing `weights=VGG16_Weights.IMAGENET1K_V1`. You can also use `weights=VGG16_Weights.DEFAULT` to get the most up-to-date weights.\n",
            "  warnings.warn(msg)\n",
            "Loading model from: /home/aditya/miniconda3/lib/python3.12/site-packages/lpips/weights/v0.1/vgg.pth\n",
            "Arch [edsr] is created (net_sr)\n",
            "--> Load net_sr model from experiments/pretrained_models/edsr_baseline_x8.pt, with param key: [None].\n",
            "Arch [nafnet] is created (net_deblur)\n",
            "Data path: datasets/deblur\n",
            "Loading data from:\n",
            "  Data root: /datasets/deblur/train\n",
            "  Blurry path: /datasets/deblur/train/blurry_images\n",
            "  Sharp path: /datasets/deblur/train/sharp_images\n",
            "Traceback (most recent call last):\n",
            "  File \"/home/aditya/MLIP-Final/MLIP-Final/src/main.py\", line 96, in <module>\n",
            "    main()\n",
            "  File \"/home/aditya/MLIP-Final/MLIP-Final/src/main.py\", line 47, in main\n",
            "    data_loader_train, data_loader_test, train_sampler, test_sampler = load_data(opt)\n",
            "                                                                       ^^^^^^^^^^^^^^\n",
            "  File \"/home/aditya/MLIP-Final/MLIP-Final/src/data/__init__.py\", line 12, in load_data\n",
            "    return eval(f\"load_{task}_data\")(opt)\n",
            "           ^^^^^^^^^^^^^^^^^^^^^^^^^^^^^^\n",
            "  File \"/home/aditya/MLIP-Final/MLIP-Final/src/data/deblur_dataset.py\", line 102, in load_deblur_data\n",
            "    dataset_train = DeblurDataset(train_opt)\n",
            "                    ^^^^^^^^^^^^^^^^^^^^^^^^\n",
            "  File \"/home/aditya/MLIP-Final/MLIP-Final/src/data/deblur_dataset.py\", line 27, in __init__\n",
            "    self.image_list = self._get_image_list()\n",
            "                      ^^^^^^^^^^^^^^^^^^^^^^\n",
            "  File \"/home/aditya/MLIP-Final/MLIP-Final/src/data/deblur_dataset.py\", line 43, in _get_image_list\n",
            "    raise FileNotFoundError(f\"Blurry images directory not found: {self.blurry_path}\")\n",
            "FileNotFoundError: Blurry images directory not found: /datasets/deblur/train/blurry_images\n"
          ]
        }
      ],
      "source": [
        "CUDA_VISIBLE_DEVICES=0\n",
        "!python src/main.py -opt options/deblur/sr4ir_deblur.yml"
      ]
    },
    {
      "cell_type": "markdown",
      "metadata": {
        "id": "2JvzrRTSJgKQ"
      },
      "source": [
        "# Test the models"
      ]
    },
    {
      "cell_type": "code",
      "execution_count": null,
      "metadata": {
        "id": "MCRIy31dJijw"
      },
      "outputs": [],
      "source": [
        "CUDA_VISIBLE_DEVICES=0\n",
        "%cd SR4IR\n",
        "!python src/main.py -opt options/deblur/sr4ir_deblur.yml --test_only"
      ]
    }
  ],
  "metadata": {
    "accelerator": "GPU",
    "colab": {
      "gpuType": "T4",
      "provenance": []
    },
    "kernelspec": {
      "display_name": "base",
      "language": "python",
      "name": "python3"
    },
    "language_info": {
      "codemirror_mode": {
        "name": "ipython",
        "version": 3
      },
      "file_extension": ".py",
      "mimetype": "text/x-python",
      "name": "python",
      "nbconvert_exporter": "python",
      "pygments_lexer": "ipython3",
      "version": "3.12.9"
    }
  },
  "nbformat": 4,
  "nbformat_minor": 0
}
